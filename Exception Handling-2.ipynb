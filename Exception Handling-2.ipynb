{
 "cells": [
  {
   "cell_type": "raw",
   "id": "3ca89745-aede-4b9b-885d-c792a1f1914c",
   "metadata": {},
   "source": [
    "Exception handling-1"
   ]
  },
  {
   "cell_type": "markdown",
   "id": "362a69db-a4ab-427a-8956-fe03ea4e0d9c",
   "metadata": {},
   "source": [
    "Q1. What is an Exception in python? Write the difference between Exceptions and syntax errors"
   ]
  },
  {
   "cell_type": "markdown",
   "id": "8ef0d052-0e32-44d6-878d-368f091cdf56",
   "metadata": {},
   "source": [
    " exceptions are raised when some internal events occur which changes the normal flow of the program."
   ]
  },
  {
   "cell_type": "raw",
   "id": "df17c3b1-acf6-4305-9705-01d382f8610a",
   "metadata": {},
   "source": [
    " Errors are the problems in a program due to which the program will stop the execution"
   ]
  },
  {
   "cell_type": "markdown",
   "id": "6987f977-96aa-4fae-a629-35384b7cdc36",
   "metadata": {},
   "source": [
    "Q2. What happens when an exception is not hndled? Explain with an example\n",
    "the runtime system will abort the program (i.e. crash) and an exception message will print to the console. "
   ]
  },
  {
   "cell_type": "code",
   "execution_count": 4,
   "id": "cec975a4-7d05-4d6c-b0c3-112ea43d4818",
   "metadata": {},
   "outputs": [],
   "source": [
    "a=20"
   ]
  },
  {
   "cell_type": "code",
   "execution_count": 5,
   "id": "942d4679-7a93-4ebc-a831-d0eaf1b8209d",
   "metadata": {},
   "outputs": [
    {
     "ename": "ZeroDivisionError",
     "evalue": "division by zero",
     "output_type": "error",
     "traceback": [
      "\u001b[0;31m---------------------------------------------------------------------------\u001b[0m",
      "\u001b[0;31mZeroDivisionError\u001b[0m                         Traceback (most recent call last)",
      "Cell \u001b[0;32mIn[5], line 1\u001b[0m\n\u001b[0;32m----> 1\u001b[0m \u001b[43ma\u001b[49m\u001b[38;5;241;43m/\u001b[39;49m\u001b[38;5;241;43m0\u001b[39;49m\n",
      "\u001b[0;31mZeroDivisionError\u001b[0m: division by zero"
     ]
    }
   ],
   "source": [
    "a/0"
   ]
  },
  {
   "cell_type": "code",
   "execution_count": 6,
   "id": "b4ed61e2-20ef-4fef-936d-1c8b72bdacae",
   "metadata": {},
   "outputs": [
    {
     "ename": "FileNotFoundError",
     "evalue": "[Errno 2] No such file or directory: 'sample.txt'",
     "output_type": "error",
     "traceback": [
      "\u001b[0;31m---------------------------------------------------------------------------\u001b[0m",
      "\u001b[0;31mFileNotFoundError\u001b[0m                         Traceback (most recent call last)",
      "Cell \u001b[0;32mIn[6], line 1\u001b[0m\n\u001b[0;32m----> 1\u001b[0m sample\u001b[38;5;241m=\u001b[39m\u001b[38;5;28;43mopen\u001b[39;49m\u001b[43m(\u001b[49m\u001b[38;5;124;43m\"\u001b[39;49m\u001b[38;5;124;43msample.txt\u001b[39;49m\u001b[38;5;124;43m\"\u001b[39;49m\u001b[43m,\u001b[49m\u001b[38;5;124;43m\"\u001b[39;49m\u001b[38;5;124;43mr\u001b[39;49m\u001b[38;5;124;43m\"\u001b[39;49m\u001b[43m)\u001b[49m\n\u001b[1;32m      2\u001b[0m \u001b[38;5;28mprint\u001b[39m(\u001b[38;5;124m\"\u001b[39m\u001b[38;5;124mHello welcome to exception handling class\u001b[39m\u001b[38;5;124m\"\u001b[39m)\n",
      "File \u001b[0;32m/opt/conda/lib/python3.10/site-packages/IPython/core/interactiveshell.py:282\u001b[0m, in \u001b[0;36m_modified_open\u001b[0;34m(file, *args, **kwargs)\u001b[0m\n\u001b[1;32m    275\u001b[0m \u001b[38;5;28;01mif\u001b[39;00m file \u001b[38;5;129;01min\u001b[39;00m {\u001b[38;5;241m0\u001b[39m, \u001b[38;5;241m1\u001b[39m, \u001b[38;5;241m2\u001b[39m}:\n\u001b[1;32m    276\u001b[0m     \u001b[38;5;28;01mraise\u001b[39;00m \u001b[38;5;167;01mValueError\u001b[39;00m(\n\u001b[1;32m    277\u001b[0m         \u001b[38;5;124mf\u001b[39m\u001b[38;5;124m\"\u001b[39m\u001b[38;5;124mIPython won\u001b[39m\u001b[38;5;124m'\u001b[39m\u001b[38;5;124mt let you open fd=\u001b[39m\u001b[38;5;132;01m{\u001b[39;00mfile\u001b[38;5;132;01m}\u001b[39;00m\u001b[38;5;124m by default \u001b[39m\u001b[38;5;124m\"\u001b[39m\n\u001b[1;32m    278\u001b[0m         \u001b[38;5;124m\"\u001b[39m\u001b[38;5;124mas it is likely to crash IPython. If you know what you are doing, \u001b[39m\u001b[38;5;124m\"\u001b[39m\n\u001b[1;32m    279\u001b[0m         \u001b[38;5;124m\"\u001b[39m\u001b[38;5;124myou can use builtins\u001b[39m\u001b[38;5;124m'\u001b[39m\u001b[38;5;124m open.\u001b[39m\u001b[38;5;124m\"\u001b[39m\n\u001b[1;32m    280\u001b[0m     )\n\u001b[0;32m--> 282\u001b[0m \u001b[38;5;28;01mreturn\u001b[39;00m \u001b[43mio_open\u001b[49m\u001b[43m(\u001b[49m\u001b[43mfile\u001b[49m\u001b[43m,\u001b[49m\u001b[43m \u001b[49m\u001b[38;5;241;43m*\u001b[39;49m\u001b[43margs\u001b[49m\u001b[43m,\u001b[49m\u001b[43m \u001b[49m\u001b[38;5;241;43m*\u001b[39;49m\u001b[38;5;241;43m*\u001b[39;49m\u001b[43mkwargs\u001b[49m\u001b[43m)\u001b[49m\n",
      "\u001b[0;31mFileNotFoundError\u001b[0m: [Errno 2] No such file or directory: 'sample.txt'"
     ]
    }
   ],
   "source": [
    "sample=open(\"sample.txt\",\"r\")\n",
    "print(\"Hello welcome to exception handling class\")"
   ]
  },
  {
   "cell_type": "markdown",
   "id": "02e5f4ec-e9f9-4e14-93cc-60beacf60162",
   "metadata": {},
   "source": [
    "Q3. Which Python statements are used to catch and handle exceptions? Explain with an example ?\n",
    "The try and except block in Python is used to catch and handle exceptions"
   ]
  },
  {
   "cell_type": "code",
   "execution_count": 1,
   "id": "163a5bd3-5be8-4223-9f69-f141e7c4372b",
   "metadata": {},
   "outputs": [
    {
     "name": "stdout",
     "output_type": "stream",
     "text": [
      "File doesn't exist\n"
     ]
    }
   ],
   "source": [
    "try:\n",
    "    f=open(\"hello.txt\",\"r\")\n",
    "except Exception as e:\n",
    "    print(\"File doesn't exist\")"
   ]
  },
  {
   "cell_type": "markdown",
   "id": "2f1d3b01-3298-4ece-8c60-9adf0109afae",
   "metadata": {},
   "source": [
    "Q4. Explain with an example\n",
    "a. try and else\n",
    "b. finally\n",
    "c. raise"
   ]
  },
  {
   "cell_type": "code",
   "execution_count": 3,
   "id": "772fdc81-631c-4659-91d3-7c0bb4f319d8",
   "metadata": {},
   "outputs": [
    {
     "name": "stdout",
     "output_type": "stream",
     "text": [
      "Else part getting executed\n",
      "Finally block will be executed compulsory\n"
     ]
    }
   ],
   "source": [
    "try:\n",
    "    f=open(\"hello1.txt\",\"w\")\n",
    "    f.write(\"This is my message\")\n",
    "except Exception as e:\n",
    "    print(\"File doesn't exist\")\n",
    "else:\n",
    "    f.close()\n",
    "    print(\"Else part getting executed\")\n",
    "finally:\n",
    "    print(\"Finally block will be executed compulsory\")"
   ]
  },
  {
   "cell_type": "code",
   "execution_count": 5,
   "id": "6b617501-56eb-4275-8f30-6ba364faa8fa",
   "metadata": {},
   "outputs": [
    {
     "name": "stdin",
     "output_type": "stream",
     "text": [
      "Enter the age 12\n"
     ]
    }
   ],
   "source": [
    "e=int(input(\"Enter the age\"))\n"
   ]
  },
  {
   "cell_type": "code",
   "execution_count": 34,
   "id": "26b60098-2427-4842-8ce7-09690634d0d7",
   "metadata": {},
   "outputs": [],
   "source": [
    "class validate(Exception):\n",
    "    def __init__(self,msg):\n",
    "        self.msg=msg"
   ]
  },
  {
   "cell_type": "code",
   "execution_count": 35,
   "id": "967dec97-dbbb-469f-95f4-fc4d996567d1",
   "metadata": {},
   "outputs": [],
   "source": [
    "def validate_e(e):\n",
    "    if e > 18 :\n",
    "        raise validate(\"eligible to vote\")\n",
    "    elif e < 18 :\n",
    "        raise validate(\"not eligible\")\n",
    "    elif e<0:\n",
    "        raise validate(\"No person age is less than zero\")"
   ]
  },
  {
   "cell_type": "code",
   "execution_count": 36,
   "id": "f8147c88-629d-4c7e-be3d-8edf9721b9c5",
   "metadata": {},
   "outputs": [
    {
     "name": "stdin",
     "output_type": "stream",
     "text": [
      "Enter the age 52\n"
     ]
    },
    {
     "name": "stdout",
     "output_type": "stream",
     "text": [
      "eligible to vote\n"
     ]
    }
   ],
   "source": [
    "try:\n",
    "    age=int(input(\"Enter the age\"))\n",
    "    validate_e(age)\n",
    "except validate as e:\n",
    "    print(e)"
   ]
  },
  {
   "cell_type": "markdown",
   "id": "7b528daf-2b33-4c7b-b035-6258845d6e0c",
   "metadata": {},
   "source": [
    "Q5. What are customer exceptions in python?Why do we need customer exceptions? Explain with an example\n",
    "creating his/her own exceptions based on the scenario and raise explicitly for corresponding scenarios is known as Customer exception.\n",
    "Example:same as above"
   ]
  },
  {
   "cell_type": "markdown",
   "id": "74bcfa21-d084-4ae2-ae96-a79a30190e5c",
   "metadata": {},
   "source": [
    "Q6. create custom exception class. Use this class to handle exception\n",
    "Ans. Same as above example"
   ]
  }
 ],
 "metadata": {
  "kernelspec": {
   "display_name": "Python 3 (ipykernel)",
   "language": "python",
   "name": "python3"
  },
  "language_info": {
   "codemirror_mode": {
    "name": "ipython",
    "version": 3
   },
   "file_extension": ".py",
   "mimetype": "text/x-python",
   "name": "python",
   "nbconvert_exporter": "python",
   "pygments_lexer": "ipython3",
   "version": "3.10.8"
  }
 },
 "nbformat": 4,
 "nbformat_minor": 5
}
