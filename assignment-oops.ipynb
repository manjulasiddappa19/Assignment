{
 "cells": [
  {
   "cell_type": "markdown",
   "id": "69b5c9e6-ad60-46f8-ad93-7a54e4f84ac4",
   "metadata": {},
   "source": [
    "Q1. Explain Class and Object with respect to Object-Oriented Programming. Give a suitable example"
   ]
  },
  {
   "cell_type": "markdown",
   "id": "5f08291a-8906-4611-bc9f-83f89d4fc4df",
   "metadata": {},
   "source": [
    "Object - is a real world entity ex. pen, book,car\n",
    "Class - collection of methods and attributes(int,float)"
   ]
  },
  {
   "cell_type": "code",
   "execution_count": 1,
   "id": "43c8f898-e433-4480-b8c8-c9b8fb45f8b0",
   "metadata": {},
   "outputs": [],
   "source": [
    "class test:\n",
    "    def welcome(self):\n",
    "        print(\"Welcome to the class\")"
   ]
  },
  {
   "cell_type": "code",
   "execution_count": 2,
   "id": "81cff1a6-11dd-47e0-86bf-8434954df47d",
   "metadata": {},
   "outputs": [],
   "source": [
    "t=test() "
   ]
  },
  {
   "cell_type": "code",
   "execution_count": 3,
   "id": "cd902ea6-fa0a-499b-8a8d-87a00ed26588",
   "metadata": {},
   "outputs": [
    {
     "name": "stdout",
     "output_type": "stream",
     "text": [
      "Welcome to the class\n"
     ]
    }
   ],
   "source": [
    "t.welcome();"
   ]
  },
  {
   "cell_type": "markdown",
   "id": "f3847458-babd-40cc-8994-cff4deaa81c0",
   "metadata": {},
   "source": [
    "Q2. Name the four pillars of OOPs\n",
    "1. Abstraction\n",
    "2. Encapulation\n",
    "3. Inheritance\n",
    "4. Polymorphism"
   ]
  },
  {
   "cell_type": "markdown",
   "id": "06857cf8-2fd7-4fee-bd7f-44ba4d962ae0",
   "metadata": {},
   "source": [
    " Q3. Explain why the __init__() function is used. Give a suitable example.\n",
    "__init__() is a constructor"
   ]
  },
  {
   "cell_type": "code",
   "execution_count": 4,
   "id": "caa92e4b-33c4-42d7-9b0c-ab6952381c5f",
   "metadata": {},
   "outputs": [],
   "source": [
    "class example:\n",
    "    def __init__(self,eid,name,phno):\n",
    "        self.eid = eid\n",
    "        self.name= name\n",
    "        self.phno = phno\n",
    "        \n",
    "    def return_fun(self):\n",
    "        return self.eid,self.name,self.phno\n",
    "    "
   ]
  },
  {
   "cell_type": "code",
   "execution_count": 5,
   "id": "87a88b8f-6341-4af2-8119-477233199de1",
   "metadata": {},
   "outputs": [],
   "source": [
    "ex=example(23,\"rohan\",859698568)"
   ]
  },
  {
   "cell_type": "code",
   "execution_count": 6,
   "id": "f196e23f-e830-4d76-b394-aaa382c46600",
   "metadata": {},
   "outputs": [
    {
     "data": {
      "text/plain": [
       "'rohan'"
      ]
     },
     "execution_count": 6,
     "metadata": {},
     "output_type": "execute_result"
    }
   ],
   "source": [
    "ex.name"
   ]
  },
  {
   "cell_type": "code",
   "execution_count": 7,
   "id": "f617288d-9c29-4cde-9852-810a5e675539",
   "metadata": {},
   "outputs": [
    {
     "data": {
      "text/plain": [
       "859698568"
      ]
     },
     "execution_count": 7,
     "metadata": {},
     "output_type": "execute_result"
    }
   ],
   "source": [
    "ex.phno"
   ]
  },
  {
   "cell_type": "markdown",
   "id": "1ea02e2a-66b2-466c-bc19-3e7bb47bc626",
   "metadata": {},
   "source": [
    "Q4.Why self is used in OOPs?  to indicate it is referring to itself. The pointer is referring to the same function. Or else it throws an error"
   ]
  },
  {
   "cell_type": "markdown",
   "id": "0a6dbcb6-436a-4acd-904a-6417bf22062c",
   "metadata": {},
   "source": [
    "Q5. What is inheritance? Give an example for each type of inheritance"
   ]
  },
  {
   "cell_type": "markdown",
   "id": "77dd10f7-b8ad-4de3-9786-ca0b9aa170be",
   "metadata": {},
   "source": [
    "Inheritance is aqurining the properties from the parent class or inherited class\n",
    "type of inheritance \n",
    "1. Mutilabel inheritance\n",
    "2. Multiple inheritance"
   ]
  },
  {
   "cell_type": "code",
   "execution_count": 8,
   "id": "7b483ce0-2ba7-4e61-8ec1-447fe0bfc7cc",
   "metadata": {},
   "outputs": [],
   "source": [
    "#mutilabel inheritance\n",
    "class a :\n",
    "    def a_fun(self):\n",
    "        print(\"class A\")\n",
    "        "
   ]
  },
  {
   "cell_type": "code",
   "execution_count": 9,
   "id": "7941699d-a4a9-481f-9289-4d98d55cc291",
   "metadata": {},
   "outputs": [],
   "source": [
    "class b(a) :\n",
    "    def b_fun(self):\n",
    "        print(\"class B\")"
   ]
  },
  {
   "cell_type": "code",
   "execution_count": 10,
   "id": "818fe2d9-7a04-463f-9fbb-ff04c3f11d51",
   "metadata": {},
   "outputs": [],
   "source": [
    "class c(b) :\n",
    "    def c_fun(self):\n",
    "        print(\"class C\")"
   ]
  },
  {
   "cell_type": "code",
   "execution_count": 11,
   "id": "08a58082-141b-4dc8-8513-e2a5657032af",
   "metadata": {},
   "outputs": [],
   "source": [
    "C_class= c()"
   ]
  },
  {
   "cell_type": "code",
   "execution_count": 16,
   "id": "fa92914d-2157-4c5c-9b82-66830a3b487c",
   "metadata": {},
   "outputs": [
    {
     "name": "stdout",
     "output_type": "stream",
     "text": [
      "class A\n"
     ]
    }
   ],
   "source": [
    "C_class.a_fun()"
   ]
  },
  {
   "cell_type": "code",
   "execution_count": 17,
   "id": "819bff74-c46c-48a2-ba40-87f318d46f66",
   "metadata": {},
   "outputs": [
    {
     "name": "stdout",
     "output_type": "stream",
     "text": [
      "class B\n"
     ]
    }
   ],
   "source": [
    "C_class.b_fun()"
   ]
  },
  {
   "cell_type": "code",
   "execution_count": 18,
   "id": "b231dd8e-c3e6-4841-86a0-2b04b9af66f0",
   "metadata": {},
   "outputs": [
    {
     "name": "stdout",
     "output_type": "stream",
     "text": [
      "class C\n"
     ]
    }
   ],
   "source": [
    "C_class.c_fun()"
   ]
  },
  {
   "cell_type": "code",
   "execution_count": 19,
   "id": "cf13f146-35eb-4643-923a-84a361e67f7d",
   "metadata": {},
   "outputs": [],
   "source": [
    "#MULTIPLE Inheritance\n",
    "class A :\n",
    "    def a_fun(self):\n",
    "        print(\"class A\")\n",
    "        "
   ]
  },
  {
   "cell_type": "code",
   "execution_count": 20,
   "id": "c2605f1f-810f-4c80-8d37-15c786595a05",
   "metadata": {},
   "outputs": [],
   "source": [
    "class B :\n",
    "    def a_fun(self):\n",
    "        print(\"class B\")\n",
    "        "
   ]
  },
  {
   "cell_type": "code",
   "execution_count": 22,
   "id": "c8047228-68c9-4c8e-917d-5f8f57c047be",
   "metadata": {},
   "outputs": [],
   "source": [
    "class C(A,B):\n",
    "    pass"
   ]
  },
  {
   "cell_type": "code",
   "execution_count": null,
   "id": "feb66093-7c5d-44eb-bc8c-833bac5452c0",
   "metadata": {},
   "outputs": [],
   "source": [
    "Cobj=C()"
   ]
  },
  {
   "cell_type": "code",
   "execution_count": null,
   "id": "5000b73f-a644-48b2-884a-8453b271a5ac",
   "metadata": {},
   "outputs": [],
   "source": []
  }
 ],
 "metadata": {
  "kernelspec": {
   "display_name": "Python 3 (ipykernel)",
   "language": "python",
   "name": "python3"
  },
  "language_info": {
   "codemirror_mode": {
    "name": "ipython",
    "version": 3
   },
   "file_extension": ".py",
   "mimetype": "text/x-python",
   "name": "python",
   "nbconvert_exporter": "python",
   "pygments_lexer": "ipython3",
   "version": "3.10.8"
  }
 },
 "nbformat": 4,
 "nbformat_minor": 5
}
