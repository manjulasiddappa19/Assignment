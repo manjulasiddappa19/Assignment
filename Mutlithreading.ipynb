{
 "cells": [
  {
   "cell_type": "markdown",
   "id": "c6807f49-4ed0-472d-a29a-4f36e2ddc639",
   "metadata": {},
   "source": [
    " Q1. What is multithreading in python? why it is used ? Name the module to handle threads in python"
   ]
  },
  {
   "cell_type": "markdown",
   "id": "1a1e991b-d5c4-4c5f-a6fe-64cf339b608c",
   "metadata": {},
   "source": [
    "Multithreading is a stringing procedure in Python programming to run various strings simultaneously by quickly exchanging between strings with a central processor help "
   ]
  },
  {
   "cell_type": "code",
   "execution_count": null,
   "id": "c0d86115-03d5-48e9-bbed-972fb3c81ebb",
   "metadata": {},
   "outputs": [],
   "source": []
  },
  {
   "cell_type": "markdown",
   "id": "58c82867-4d6e-45ef-9562-ab3a4090ee6b",
   "metadata": {},
   "source": [
    "Q2. Why threading module is used ?Write the use of the following function\n",
    "i) activeCount()\n",
    "ii)currentThread()\n",
    "iii)enumerate()\n",
    " threading module is used for creating, controlling and managing threads in python\n",
    "activeCount() − Returns the number of thread objects that are active.\n",
    "currentThread() − Returns the number of thread objects in the caller's thread control.\n",
    "enumerate() − Returns a list of all thread objects that are currently active."
   ]
  },
  {
   "cell_type": "markdown",
   "id": "da7684b5-ca70-43e5-b383-790cbc27a885",
   "metadata": {},
   "source": [
    "Q3. Explain the following functions\n",
    "i)run()\n",
    "ii) start()\n",
    "iii)join()\n",
    "iv) isAlive()\n",
    "start() − The start() method starts a thread by calling the run method. \n",
    "join([time]) − The join() waits for threads to terminate.\n",
    "isAlive() − The isAlive() method checks whether a thread is still executing. \n",
    "run() method executes any target function belonging to a given thread object that is now active"
   ]
  },
  {
   "cell_type": "code",
   "execution_count": null,
   "id": "1de358f0-feb4-40f1-9d27-d496e4e90999",
   "metadata": {},
   "outputs": [],
   "source": [
    "Q4. Write a python program to create 2 threads. Thread one prints list of square  and thread two prints list of cubes"
   ]
  },
  {
   "cell_type": "code",
   "execution_count": 31,
   "id": "e81be0b0-50f7-429f-ba4f-7136f04b73e1",
   "metadata": {},
   "outputs": [],
   "source": [
    "import threading\n",
    "import time"
   ]
  },
  {
   "cell_type": "code",
   "execution_count": 32,
   "id": "9e8f25e4-6089-42e6-99a1-c8f5d2de0bf2",
   "metadata": {},
   "outputs": [],
   "source": [
    "def squ(x):\n",
    "   print(\"Square: {}\" .format(x*x))\n",
    "         \n",
    "def cube(x):\n",
    "   print(\"Cube: {}\" .format(x*x*x))\n",
    "    "
   ]
  },
  {
   "cell_type": "code",
   "execution_count": 39,
   "id": "b4d7e873-bfb3-4b24-be09-65ee55c7aa4f",
   "metadata": {},
   "outputs": [],
   "source": [
    "th1=[threading.Thread(target=squ,args=(i,)) for i in [1,2,3,4,5,6,7,8,9,10]]\n",
    "th2=[threading.Thread(target=cube,args=(i,)) for i in [1,2,3,4,5,6,7,8,9,10]]"
   ]
  },
  {
   "cell_type": "code",
   "execution_count": 40,
   "id": "02f0b593-e3de-4275-b213-73187f87cd8b",
   "metadata": {},
   "outputs": [
    {
     "name": "stdout",
     "output_type": "stream",
     "text": [
      "Square: 1\n",
      "Square: 4\n",
      "Square: 9\n",
      "Square: 16\n",
      "Square: 25\n",
      "Square: 36\n",
      "Square: 49\n",
      "Square: 64\n",
      "Square: 81\n",
      "Square: 100\n"
     ]
    }
   ],
   "source": [
    "for t in th1:\n",
    "    t.start()"
   ]
  },
  {
   "cell_type": "code",
   "execution_count": 41,
   "id": "e672aaf4-44d4-4834-876b-b855986ab556",
   "metadata": {},
   "outputs": [
    {
     "name": "stdout",
     "output_type": "stream",
     "text": [
      "Cube: 1\n",
      "Cube: 8\n",
      "Cube: 27\n",
      "Cube: 64\n",
      "Cube: 125\n",
      "Cube: 216\n",
      "Cube: 343\n",
      "Cube: 512\n",
      "Cube: 729\n",
      "Cube: 1000\n"
     ]
    }
   ],
   "source": [
    "for t in th2:\n",
    "    t.start()"
   ]
  },
  {
   "cell_type": "markdown",
   "id": "c246c9f8-f2f5-485a-b6c1-660f4745a48e",
   "metadata": {},
   "source": [
    "Q5. State advantage and disadvantage of multithreading\n",
    "Following are some of the common advantages of multithreading:\n",
    "\n",
    "Enhanced performance by decreased development time\n",
    "Simplified and streamlined program coding\n",
    "Improvised GUI responsiveness\n",
    "Simultaneous and parallelized occurrence of tasks\n",
    "Better use of cache storage by utilization of resources\n",
    "Decreased cost of maintenance\n",
    "Better use of CPU resource\n",
    "\n",
    "disadvantages:\n",
    "Complex debugging and testing processes\n",
    "Overhead switching of context\n",
    "Increased potential for deadlock occurrence\n",
    "Increased difficulty level in writing a program\n",
    "Unpredictable results"
   ]
  },
  {
   "cell_type": "markdown",
   "id": "bef2df87-df78-4e31-94d9-6465ceb25013",
   "metadata": {},
   "source": [
    "Q6. Explain deadlocks and race conditions\n",
    "A race condition occurs when two threads use the same variable at a given time. Deadlock exists when two threads seek one lock simultaneously. This situation will stop both threads from processing or executing the functions"
   ]
  },
  {
   "cell_type": "code",
   "execution_count": null,
   "id": "f50c1d78-e243-4801-871b-25451e8b1cb8",
   "metadata": {},
   "outputs": [],
   "source": []
  }
 ],
 "metadata": {
  "kernelspec": {
   "display_name": "Python 3 (ipykernel)",
   "language": "python",
   "name": "python3"
  },
  "language_info": {
   "codemirror_mode": {
    "name": "ipython",
    "version": 3
   },
   "file_extension": ".py",
   "mimetype": "text/x-python",
   "name": "python",
   "nbconvert_exporter": "python",
   "pygments_lexer": "ipython3",
   "version": "3.10.8"
  }
 },
 "nbformat": 4,
 "nbformat_minor": 5
}
