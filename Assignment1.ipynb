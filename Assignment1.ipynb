{
 "cells": [
  {
   "cell_type": "code",
   "execution_count": 3,
   "id": "861c676f-8b25-4ec7-86cc-cb229156c449",
   "metadata": {},
   "outputs": [],
   "source": [
    "#Question Q1"
   ]
  },
  {
   "cell_type": "code",
   "execution_count": 4,
   "id": "1517ffe0-79ad-404d-a3d0-53b78c4b6358",
   "metadata": {},
   "outputs": [],
   "source": [
    "i=10.56"
   ]
  },
  {
   "cell_type": "code",
   "execution_count": 5,
   "id": "444d91fa-25a4-4dc6-9eea-dfd81c07bbad",
   "metadata": {},
   "outputs": [
    {
     "data": {
      "text/plain": [
       "float"
      ]
     },
     "execution_count": 5,
     "metadata": {},
     "output_type": "execute_result"
    }
   ],
   "source": [
    "type(i)"
   ]
  },
  {
   "cell_type": "code",
   "execution_count": 6,
   "id": "d722f7fa-3999-4836-9b33-e16e9efcb6cd",
   "metadata": {},
   "outputs": [],
   "source": [
    "s=\"Hello\""
   ]
  },
  {
   "cell_type": "code",
   "execution_count": 7,
   "id": "a77a2657-c2fe-4b12-84bc-e1e2f6e34f8a",
   "metadata": {},
   "outputs": [
    {
     "data": {
      "text/plain": [
       "str"
      ]
     },
     "execution_count": 7,
     "metadata": {},
     "output_type": "execute_result"
    }
   ],
   "source": [
    "type(s)"
   ]
  },
  {
   "cell_type": "code",
   "execution_count": 8,
   "id": "038e8d4b-a362-4c9b-aa35-3ecd6f8449e1",
   "metadata": {},
   "outputs": [],
   "source": [
    "l=[2,6,8,\"hello\",56.89,67,5+7j]"
   ]
  },
  {
   "cell_type": "code",
   "execution_count": 9,
   "id": "be463ccc-626b-4a88-a700-e5e3abe76039",
   "metadata": {},
   "outputs": [
    {
     "name": "stdout",
     "output_type": "stream",
     "text": [
      "[2, 6, 8, 'hello', 56.89, 67, (5+7j)]\n"
     ]
    }
   ],
   "source": [
    "print(l)"
   ]
  },
  {
   "cell_type": "code",
   "execution_count": 10,
   "id": "52c2529e-c871-44ca-9f3d-90ced00d0da1",
   "metadata": {},
   "outputs": [],
   "source": [
    "t=(2,6,8,\"hello\",56.89,67,5+7j)"
   ]
  },
  {
   "cell_type": "code",
   "execution_count": 11,
   "id": "2ae6fd08-9933-43d6-b954-8e3e6354692a",
   "metadata": {},
   "outputs": [
    {
     "name": "stdout",
     "output_type": "stream",
     "text": [
      "(2, 6, 8, 'hello', 56.89, 67, (5+7j))\n"
     ]
    }
   ],
   "source": [
    "print(t)"
   ]
  },
  {
   "cell_type": "code",
   "execution_count": 12,
   "id": "31ba5a4c-128d-4dab-af18-e7163fee94cb",
   "metadata": {},
   "outputs": [],
   "source": [
    "#Question Q2"
   ]
  },
  {
   "cell_type": "code",
   "execution_count": 13,
   "id": "f15803ca-c8fb-4f38-b2a2-9fd7eeb82c84",
   "metadata": {},
   "outputs": [],
   "source": [
    "var1 = ' '"
   ]
  },
  {
   "cell_type": "code",
   "execution_count": 14,
   "id": "8beb8f50-de94-4c1f-87fe-6d9670135865",
   "metadata": {},
   "outputs": [
    {
     "data": {
      "text/plain": [
       "str"
      ]
     },
     "execution_count": 14,
     "metadata": {},
     "output_type": "execute_result"
    }
   ],
   "source": [
    "type(var1)"
   ]
  },
  {
   "cell_type": "code",
   "execution_count": 15,
   "id": "46a496f3-1891-4fc7-be67-c9a661d017e1",
   "metadata": {},
   "outputs": [],
   "source": [
    "var2 = '[ DS , ML , Python]'"
   ]
  },
  {
   "cell_type": "code",
   "execution_count": 16,
   "id": "c31ae5fa-57cd-4552-a273-6f03d9a3edd8",
   "metadata": {},
   "outputs": [
    {
     "data": {
      "text/plain": [
       "str"
      ]
     },
     "execution_count": 16,
     "metadata": {},
     "output_type": "execute_result"
    }
   ],
   "source": [
    "type(var2)"
   ]
  },
  {
   "cell_type": "code",
   "execution_count": 17,
   "id": "2ffbbdd4-d060-4087-9207-0cf7b2dd73a9",
   "metadata": {},
   "outputs": [],
   "source": [
    "var3 = ['DS', 'ML', 'Python' ]\n"
   ]
  },
  {
   "cell_type": "code",
   "execution_count": 18,
   "id": "7819adbe-bebe-4c32-94f5-a579c84f16e5",
   "metadata": {},
   "outputs": [
    {
     "data": {
      "text/plain": [
       "list"
      ]
     },
     "execution_count": 18,
     "metadata": {},
     "output_type": "execute_result"
    }
   ],
   "source": [
    "type(var3)"
   ]
  },
  {
   "cell_type": "code",
   "execution_count": 19,
   "id": "acd6f0a1-0231-4bbb-ac05-792aa2e076cd",
   "metadata": {},
   "outputs": [],
   "source": [
    "var4 = 1"
   ]
  },
  {
   "cell_type": "code",
   "execution_count": 20,
   "id": "c37f5446-62f3-451b-8b77-dda4c3f42b64",
   "metadata": {},
   "outputs": [
    {
     "data": {
      "text/plain": [
       "int"
      ]
     },
     "execution_count": 20,
     "metadata": {},
     "output_type": "execute_result"
    }
   ],
   "source": [
    "type(var4)"
   ]
  },
  {
   "cell_type": "code",
   "execution_count": 21,
   "id": "925d863a-0b84-4f71-afd9-867e1b92c45c",
   "metadata": {},
   "outputs": [],
   "source": [
    "#Question Q3"
   ]
  },
  {
   "cell_type": "code",
   "execution_count": 22,
   "id": "e1acd45a-af1e-4cc1-a96d-d7c55886b622",
   "metadata": {},
   "outputs": [
    {
     "data": {
      "text/plain": [
       "1.5"
      ]
     },
     "execution_count": 22,
     "metadata": {},
     "output_type": "execute_result"
    }
   ],
   "source": [
    "6/4"
   ]
  },
  {
   "cell_type": "code",
   "execution_count": 23,
   "id": "58b7d5c2-a066-4627-85e5-a561ae7af43d",
   "metadata": {},
   "outputs": [
    {
     "data": {
      "text/plain": [
       "1"
      ]
     },
     "execution_count": 23,
     "metadata": {},
     "output_type": "execute_result"
    }
   ],
   "source": [
    "6//4"
   ]
  },
  {
   "cell_type": "code",
   "execution_count": 24,
   "id": "6292daf1-f2e9-4886-99b6-e315cbac4da4",
   "metadata": {},
   "outputs": [
    {
     "data": {
      "text/plain": [
       "1"
      ]
     },
     "execution_count": 24,
     "metadata": {},
     "output_type": "execute_result"
    }
   ],
   "source": [
    "9%2"
   ]
  },
  {
   "cell_type": "code",
   "execution_count": 25,
   "id": "9172378d-622d-4aba-ab85-e20cd63685b6",
   "metadata": {},
   "outputs": [
    {
     "data": {
      "text/plain": [
       "27"
      ]
     },
     "execution_count": 25,
     "metadata": {},
     "output_type": "execute_result"
    }
   ],
   "source": [
    "3**3"
   ]
  },
  {
   "cell_type": "code",
   "execution_count": 26,
   "id": "1805e9a2-6dbb-42e7-b212-5dfe871a887e",
   "metadata": {},
   "outputs": [
    {
     "data": {
      "text/plain": [
       "'Question 4 : Create a list of length 10 of your choice containing multiple types of data. Using for loop print the\\nelement and its data type.'"
      ]
     },
     "execution_count": 26,
     "metadata": {},
     "output_type": "execute_result"
    }
   ],
   "source": [
    "\"\"\"Question 4 : Create a list of length 10 of your choice containing multiple types of data. Using for loop print the\n",
    "element and its data type.\"\"\""
   ]
  },
  {
   "cell_type": "code",
   "execution_count": 27,
   "id": "a7fe1fac-483b-4f13-8e64-416605470580",
   "metadata": {},
   "outputs": [],
   "source": [
    "list =[2,3,4,5.8,\"Hello\",False,\"Hi\",0,5.88,'welcome']"
   ]
  },
  {
   "cell_type": "code",
   "execution_count": 28,
   "id": "dc91c930-7064-4420-916d-9a25134ae063",
   "metadata": {},
   "outputs": [
    {
     "name": "stdout",
     "output_type": "stream",
     "text": [
      "2\n",
      "3\n",
      "4\n",
      "5.8\n",
      "Hello\n",
      "False\n",
      "Hi\n",
      "0\n",
      "5.88\n",
      "welcome\n"
     ]
    }
   ],
   "source": [
    "for i in list:\n",
    "    print(i)"
   ]
  },
  {
   "cell_type": "code",
   "execution_count": 29,
   "id": "04c1c459-893e-407c-8c99-b48562793af1",
   "metadata": {},
   "outputs": [
    {
     "data": {
      "text/plain": [
       "'Q5. Using a while loop, verify if the number A is purely divisible by number B and if so then how many\\ntimes it can be divisible.'"
      ]
     },
     "execution_count": 29,
     "metadata": {},
     "output_type": "execute_result"
    }
   ],
   "source": [
    "\"\"\"Q5. Using a while loop, verify if the number A is purely divisible by number B and if so then how many\n",
    "times it can be divisible.\"\"\""
   ]
  },
  {
   "cell_type": "code",
   "execution_count": 30,
   "id": "c2ba1d3f-bc99-4d41-8158-0e256369a2d8",
   "metadata": {},
   "outputs": [
    {
     "name": "stdin",
     "output_type": "stream",
     "text": [
      "Enter a number:  45\n",
      "Enter a number:  6\n"
     ]
    },
    {
     "name": "stdout",
     "output_type": "stream",
     "text": [
      "0\n",
      "Not purely divisible\n"
     ]
    }
   ],
   "source": [
    "A = int(input('Enter a number: '))\n",
    "B = int(input('Enter a number: '))\n",
    "counter = 0\n",
    "while A % B == 0 and A != 0:\n",
    "    A = A / B\n",
    "    counter = counter + 1\n",
    "\n",
    "print(counter)\n",
    "if(counter > 0) :\n",
    "    print(\"Purely divisible\")\n",
    "else:\n",
    "    print(\"Not purely divisible\")\n",
    "\n"
   ]
  },
  {
   "cell_type": "code",
   "execution_count": 31,
   "id": "217bf0bb-3379-4d98-a0e8-3afe76a7b67f",
   "metadata": {},
   "outputs": [
    {
     "data": {
      "text/plain": [
       "'Q6. Create a list containing 25 int type data. Using for loop and if-else condition print if the element is\\ndivisible by 3 or not. '"
      ]
     },
     "execution_count": 31,
     "metadata": {},
     "output_type": "execute_result"
    }
   ],
   "source": [
    "\"\"\"Q6. Create a list containing 25 int type data. Using for loop and if-else condition print if the element is\n",
    "divisible by 3 or not. \"\"\""
   ]
  },
  {
   "cell_type": "code",
   "execution_count": 33,
   "id": "26d8d15b-d15b-4795-8ee1-6a21ce0c6632",
   "metadata": {},
   "outputs": [
    {
     "name": "stdout",
     "output_type": "stream",
     "text": [
      "6\n",
      "9\n",
      "99\n",
      "9\n",
      "24\n",
      "30\n",
      "66\n",
      "12\n"
     ]
    }
   ],
   "source": [
    "lst=[2,5,6,7,8,9,10,5,7,823,56,778,890,23,67,99,43,778,9,24,30,66,43,20,12]\n",
    "for i in lst:\n",
    "    if (i %3 ==0):\n",
    "        print (i)"
   ]
  },
  {
   "cell_type": "code",
   "execution_count": 34,
   "id": "95f4c013-48ea-4688-862a-91758b9b529c",
   "metadata": {},
   "outputs": [
    {
     "data": {
      "text/plain": [
       "' What do you understand about mutable and immutable data types? Give examples for both showing\\nthis property \\n Mutable -> can change the value through indexes\\nimmutale -> cant change '"
      ]
     },
     "execution_count": 34,
     "metadata": {},
     "output_type": "execute_result"
    }
   ],
   "source": [
    "\"\"\" What do you understand about mutable and immutable data types? Give examples for both showing\n",
    "this property \n",
    " Mutable -> can change the value through indexes\n",
    "immutale -> cant change \"\"\""
   ]
  },
  {
   "cell_type": "code",
   "execution_count": 36,
   "id": "adc4c72c-146c-4143-baed-cdaa284a1df9",
   "metadata": {},
   "outputs": [
    {
     "name": "stdout",
     "output_type": "stream",
     "text": [
      "[45, 67, 'hello', 78.9]\n",
      "[45, 67, 100, 78.9]\n"
     ]
    }
   ],
   "source": [
    "#mutable \n",
    "list1 = [45,67,\"hello\",78.90]\n",
    "print(list1)\n",
    "list1[2]=100\n",
    "print(list1)"
   ]
  },
  {
   "cell_type": "code",
   "execution_count": 37,
   "id": "745aacb3-886f-4a35-bdbc-84024701aade",
   "metadata": {},
   "outputs": [
    {
     "name": "stdout",
     "output_type": "stream",
     "text": [
      "hello world\n"
     ]
    },
    {
     "ename": "TypeError",
     "evalue": "'str' object does not support item assignment",
     "output_type": "error",
     "traceback": [
      "\u001b[0;31m---------------------------------------------------------------------------\u001b[0m",
      "\u001b[0;31mTypeError\u001b[0m                                 Traceback (most recent call last)",
      "Cell \u001b[0;32mIn[37], line 3\u001b[0m\n\u001b[1;32m      1\u001b[0m \u001b[38;5;28mstr\u001b[39m\u001b[38;5;241m=\u001b[39m\u001b[38;5;124m\"\u001b[39m\u001b[38;5;124mhello world\u001b[39m\u001b[38;5;124m\"\u001b[39m\n\u001b[1;32m      2\u001b[0m \u001b[38;5;28mprint\u001b[39m(\u001b[38;5;28mstr\u001b[39m)\n\u001b[0;32m----> 3\u001b[0m \u001b[38;5;28;43mstr\u001b[39;49m\u001b[43m[\u001b[49m\u001b[38;5;241;43m2\u001b[39;49m\u001b[43m]\u001b[49m\u001b[38;5;241m=\u001b[39m\u001b[38;5;124m'\u001b[39m\u001b[38;5;124mT\u001b[39m\u001b[38;5;124m'\u001b[39m\n\u001b[1;32m      4\u001b[0m \u001b[38;5;28mprint\u001b[39m(\u001b[38;5;28mstr\u001b[39m)\n",
      "\u001b[0;31mTypeError\u001b[0m: 'str' object does not support item assignment"
     ]
    }
   ],
   "source": [
    "#immutable\n",
    "str=\"hello world\"\n",
    "print(str)\n",
    "str[2]='T'\n",
    "print(str)"
   ]
  }
 ],
 "metadata": {
  "kernelspec": {
   "display_name": "Python 3 (ipykernel)",
   "language": "python",
   "name": "python3"
  },
  "language_info": {
   "codemirror_mode": {
    "name": "ipython",
    "version": 3
   },
   "file_extension": ".py",
   "mimetype": "text/x-python",
   "name": "python",
   "nbconvert_exporter": "python",
   "pygments_lexer": "ipython3",
   "version": "3.10.8"
  }
 },
 "nbformat": 4,
 "nbformat_minor": 5
}
