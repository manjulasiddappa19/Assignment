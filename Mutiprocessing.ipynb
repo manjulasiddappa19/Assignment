{
 "cells": [
  {
   "cell_type": "markdown",
   "id": "f96bcfbc-e53e-4ed3-85e2-d982c7a30b1e",
   "metadata": {},
   "source": [
    "Q1. What is multiprocessing in python? Why it is useful ?\n",
    "Multiprocessing in Python is a built-in package that allows the system to run multiple processes simultaneously. It will enable the breaking of applications into smaller threads that can run independently."
   ]
  },
  {
   "cell_type": "markdown",
   "id": "9a9804e2-1e31-4dd6-b4f3-79946b820b7c",
   "metadata": {},
   "source": [
    "Q2. What are the difference between mutliprogramming and multithreading\n",
    "Multiprocessing executes many processes simultaneously, whereas multithreading executes many threads simultaneously. Multithreading uses a common address space for all the threads, whereas multiprocessing creates a separate address space for each process"
   ]
  },
  {
   "cell_type": "markdown",
   "id": "b1ba1ae3-0629-4b3b-8bc2-e5f5e9deaf36",
   "metadata": {},
   "source": [
    "Q3. Write a python code to create a process using multiprocess module"
   ]
  },
  {
   "cell_type": "code",
   "execution_count": 11,
   "id": "d451b9b2-b35d-4174-b9cc-9caa978e94b0",
   "metadata": {},
   "outputs": [],
   "source": [
    "import multiprocessing"
   ]
  },
  {
   "cell_type": "code",
   "execution_count": 12,
   "id": "902e31ce-a6a1-4ab8-ae00-4c5fdceb4e2d",
   "metadata": {},
   "outputs": [
    {
     "name": "stdout",
     "output_type": "stream",
     "text": [
      "Main function is called\n",
      "this is my first multiprocess program\n"
     ]
    }
   ],
   "source": [
    "def test():\n",
    "    print(\"this is my first multiprocess program\")\n",
    "    \n",
    "if __name__==\"__main__\":\n",
    "    m = multiprocessing.Process(target = test)\n",
    "    print(\"Main function is called\")\n",
    "    m.start()\n",
    "    m.join()"
   ]
  },
  {
   "cell_type": "markdown",
   "id": "6aef254e-221e-4f34-8764-345fa0ca4e38",
   "metadata": {},
   "source": [
    "Q4. What is mutiprocessing pool in python ??why it is used\n",
    "The Python Multiprocessing Pool class allows you to create and manage process pools in Python. Although the Multiprocessing Pool has been available in Python for a long time, it is not widely used, perhaps because of misunderstandings of the capabilities and limitations of Processes and Threads in Python."
   ]
  },
  {
   "cell_type": "markdown",
   "id": "175a8808-a098-488b-97e3-4449ba19d906",
   "metadata": {},
   "source": [
    "Q5. How can you create a pool of worker process in python using multiprocessing module?"
   ]
  },
  {
   "cell_type": "code",
   "execution_count": 18,
   "id": "122d196e-6361-48da-bfc2-2c04bdf56884",
   "metadata": {},
   "outputs": [],
   "source": [
    "import random"
   ]
  },
  {
   "cell_type": "code",
   "execution_count": 14,
   "id": "56bca3f6-6c0f-4398-82a9-a5e743ae9839",
   "metadata": {},
   "outputs": [
    {
     "name": "stdout",
     "output_type": "stream",
     "text": [
      "[1, 4, 9, 16, 25, 36, 49, 64, 81, 100]\n"
     ]
    }
   ],
   "source": [
    "def sq(i):\n",
    "    return i**2\n",
    "\n",
    "if __name__==\"__main__\":\n",
    "    with multiprocessing.Pool(processes=5) as pool:\n",
    "        t=pool.map(sq,[1,2,3,4,5,6,7,8,9,10])\n",
    "        print(t)"
   ]
  },
  {
   "cell_type": "markdown",
   "id": "2f32f449-32f7-47c5-abb2-fe7759cc2358",
   "metadata": {},
   "source": [
    "Q6. Write a python program to create 4 process, each process should print different number using mutilprocessing moudle in python"
   ]
  },
  {
   "cell_type": "code",
   "execution_count": 25,
   "id": "653a5f50-04be-4b1f-8a08-9d61309e1869",
   "metadata": {},
   "outputs": [
    {
     "name": "stdout",
     "output_type": "stream",
     "text": [
      "Main function is called\n",
      "29\n"
     ]
    }
   ],
   "source": [
    "def test():\n",
    "    print(random.randrange(20,50,3))\n",
    "    \n",
    "if __name__==\"__main__\":\n",
    "    m = multiprocessing.Process(target = test)\n",
    "    m1 = multiprocessing.Process(target = test)\n",
    "    m2 = multiprocessing.Process(target = test)\n",
    "    m3 = multiprocessing.Process(target = test)\n",
    "    print(\"Main function is called\")\n",
    "    m.start()\n",
    "    m1.start()\n",
    "    m2.start()\n",
    "    m3.start()\n",
    "    m.join()\n",
    "    m.join()\n",
    "     m.join()\n",
    "    m.join()\n",
    "            "
   ]
  },
  {
   "cell_type": "code",
   "execution_count": null,
   "id": "7b5c69d3-1d46-4daf-9e75-d4a6f8558a61",
   "metadata": {},
   "outputs": [],
   "source": []
  },
  {
   "cell_type": "code",
   "execution_count": null,
   "id": "2921a93e-2dd9-4ab6-8ee8-2c396a0c02c8",
   "metadata": {},
   "outputs": [],
   "source": []
  }
 ],
 "metadata": {
  "kernelspec": {
   "display_name": "Python 3 (ipykernel)",
   "language": "python",
   "name": "python3"
  },
  "language_info": {
   "codemirror_mode": {
    "name": "ipython",
    "version": 3
   },
   "file_extension": ".py",
   "mimetype": "text/x-python",
   "name": "python",
   "nbconvert_exporter": "python",
   "pygments_lexer": "ipython3",
   "version": "3.10.8"
  }
 },
 "nbformat": 4,
 "nbformat_minor": 5
}
