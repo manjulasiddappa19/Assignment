{
 "cells": [
  {
   "cell_type": "markdown",
   "id": "0dbb14d8-95e9-48be-86d5-baa917e56685",
   "metadata": {},
   "source": [
    "Q1. Which keyword is used to create a function? Create a function to return a list of odd numbers in the\n",
    "range of 1 to 25."
   ]
  },
  {
   "cell_type": "code",
   "execution_count": 3,
   "id": "7fe43318-fb14-4f19-af78-60f5f0b7c89f",
   "metadata": {},
   "outputs": [],
   "source": [
    "def odd():\n",
    "    for i in range(25):\n",
    "        if(i%2 !=0):\n",
    "            print(i)"
   ]
  },
  {
   "cell_type": "code",
   "execution_count": 4,
   "id": "9588a195-090c-4ec5-b204-f02f7c711285",
   "metadata": {},
   "outputs": [
    {
     "name": "stdout",
     "output_type": "stream",
     "text": [
      "1\n",
      "3\n",
      "5\n",
      "7\n",
      "9\n",
      "11\n",
      "13\n",
      "15\n",
      "17\n",
      "19\n",
      "21\n",
      "23\n"
     ]
    }
   ],
   "source": [
    "odd()"
   ]
  },
  {
   "cell_type": "markdown",
   "id": "d5c9327f-e377-4cb1-b7e3-01800ebce829",
   "metadata": {},
   "source": [
    "Q2. Why *args and **kwargs is used in some functions? Create a function each for *args and **kwargs to\n",
    "demonstrate their use."
   ]
  },
  {
   "cell_type": "markdown",
   "id": "c0796fc5-708e-4805-9e27-37ccaa9c6352",
   "metadata": {},
   "source": [
    "def demo1(*argv):\n",
    "\tfor arg in argv:\n",
    "\t\tprint(arg)\n"
   ]
  },
  {
   "cell_type": "code",
   "execution_count": 27,
   "id": "1aa250c8-d606-475d-9d03-b708026e6e23",
   "metadata": {},
   "outputs": [
    {
     "name": "stdout",
     "output_type": "stream",
     "text": [
      "Hello\n",
      "Welcome\n",
      "to\n",
      "class\n"
     ]
    }
   ],
   "source": [
    "demo1('Hello', 'Welcome', 'to', 'class')"
   ]
  },
  {
   "cell_type": "code",
   "execution_count": 28,
   "id": "c2abe627-a8f6-4864-b4a5-428b8f600e5e",
   "metadata": {},
   "outputs": [],
   "source": [
    "def demo2(**kwargs):\n",
    "\tfor key, value in kwargs.items():\n",
    "\t\tprint(\"%s == %s\" % (key, value))"
   ]
  },
  {
   "cell_type": "code",
   "execution_count": 29,
   "id": "37c9671d-183f-4900-af4c-26e090dcc757",
   "metadata": {},
   "outputs": [
    {
     "name": "stdout",
     "output_type": "stream",
     "text": [
      "first == Hi\n",
      "mid == hello\n",
      "last == welcome\n"
     ]
    }
   ],
   "source": [
    "\n",
    "demo2(first='Hi', mid='hello', last='welcome')"
   ]
  },
  {
   "cell_type": "markdown",
   "id": "18227cc6-2910-4e89-969e-067e1eb15c3c",
   "metadata": {},
   "source": [
    "Q3. What is an iterator in python? Name the method used to initialise the iterator object and the method used for iteration. Use these methods to print the first five elements of the given list\n",
    "[2, 4, 6, 8, 10, 12, 14, 16,18, 20]."
   ]
  },
  {
   "cell_type": "markdown",
   "id": "9db7c337-df19-41ef-ae19-b2376b93c4f2",
   "metadata": {},
   "source": [
    "Iterators are methods that iterate collections like lists, tuples, etc"
   ]
  },
  {
   "cell_type": "code",
   "execution_count": 48,
   "id": "1e27ea80-7fd3-4137-a761-96a0a8db6d21",
   "metadata": {},
   "outputs": [
    {
     "name": "stdout",
     "output_type": "stream",
     "text": [
      "2\n",
      "4\n",
      "6\n",
      "8\n",
      "10\n"
     ]
    }
   ],
   "source": [
    "mylist=[2, 4, 6, 8, 10, 12, 14, 16,18, 20]\n",
    "it = iter(mylist)\n",
    "for i in range(5):\n",
    "    print(next(it))"
   ]
  },
  {
   "cell_type": "raw",
   "id": "6ca16a6a-6838-4fd0-858d-343b8b1c0386",
   "metadata": {},
   "source": [
    "Q4. What is a generator function in python? Why yield keyword is used? Give an example of a generator function."
   ]
  },
  {
   "cell_type": "markdown",
   "id": "e688266c-c474-40aa-8866-95a904755289",
   "metadata": {},
   "source": [
    "Generator function is similar to range . But we will use yield to record and display the value one by one"
   ]
  },
  {
   "cell_type": "code",
   "execution_count": 54,
   "id": "153aba14-4330-4387-ad5f-bfe95fe3b04e",
   "metadata": {},
   "outputs": [],
   "source": [
    "def demo7(n):\n",
    "    a,b=0,1\n",
    "    for i in range(n):\n",
    "        yield a\n",
    "        a,b=b,a+b"
   ]
  },
  {
   "cell_type": "code",
   "execution_count": null,
   "id": "164e3732-54d4-4bef-a5c0-deaae4c521f0",
   "metadata": {},
   "outputs": [],
   "source": []
  },
  {
   "cell_type": "code",
   "execution_count": 56,
   "id": "1d18c904-978e-4887-9963-aac6a02e4b37",
   "metadata": {},
   "outputs": [
    {
     "name": "stdout",
     "output_type": "stream",
     "text": [
      "0\n",
      "1\n",
      "1\n",
      "2\n",
      "3\n",
      "5\n",
      "8\n",
      "13\n",
      "21\n",
      "34\n"
     ]
    }
   ],
   "source": [
    "for i in demo7(10):\n",
    "    print(i)"
   ]
  },
  {
   "cell_type": "markdown",
   "id": "3ae52ff8-5805-4a16-9eaa-9102983ab871",
   "metadata": {},
   "source": [
    "Q5. Create a generator function for prime numbers less than 1000. Use the next() method to print the\n",
    "first 20 prime numbers."
   ]
  },
  {
   "cell_type": "code",
   "execution_count": null,
   "id": "1e28bc41-8499-44f5-b5a7-9805c871d932",
   "metadata": {},
   "outputs": [],
   "source": [
    "def demo8(n):\n",
    "    a,b=0,1\n",
    "    for i in range(n):\n",
    "        yield a\n",
    "        a,b=b,a+b"
   ]
  },
  {
   "cell_type": "code",
   "execution_count": 4,
   "id": "2bbc349b-aad0-4653-aa9d-2309afd91d5b",
   "metadata": {},
   "outputs": [
    {
     "name": "stdin",
     "output_type": "stream",
     "text": [
      "Enter the range:  1000\n"
     ]
    },
    {
     "name": "stdout",
     "output_type": "stream",
     "text": [
      "2 3 5 7 11 13 17 19 23 29 31 37 41 43 47 53 59 61 67 71 73 79 83 89 97 101 103 107 109 113 127 131 137 139 149 151 157 163 167 173 179 181 191 193 197 199 211 223 227 229 233 239 241 251 257 263 269 271 277 281 283 293 307 311 313 317 331 337 347 349 353 359 367 373 379 383 389 397 401 409 419 421 431 433 439 443 449 457 461 463 467 479 487 491 499 503 509 521 523 541 547 557 563 569 571 577 587 593 599 601 607 613 617 619 631 641 643 647 653 659 661 673 677 683 691 701 709 719 727 733 739 743 751 757 761 769 773 787 797 809 811 821 823 827 829 839 853 857 859 863 877 881 883 887 907 911 919 929 937 941 947 953 967 971 977 983 991 997 "
     ]
    }
   ],
   "source": [
    "def Prime_seq(num):\n",
    "    for i in range(2,num):\n",
    "        if prime(i) == True:\n",
    "            print(i,end = \" \")\n",
    "        else:\n",
    "            pass\n",
    "\n",
    "num = int(input(\"Enter the range: \"))\n",
    "prime = lambda num: all( num%x != 0 for x in range(2, int(num**.5)+1) )\n",
    "Prime_seq(num)"
   ]
  },
  {
   "cell_type": "code",
   "execution_count": null,
   "id": "2f7b8816-3323-4adb-994b-2592ab261aad",
   "metadata": {},
   "outputs": [],
   "source": []
  },
  {
   "cell_type": "code",
   "execution_count": null,
   "id": "124b4acc-dbda-4f4f-8b71-fd55fc750865",
   "metadata": {},
   "outputs": [],
   "source": []
  },
  {
   "cell_type": "code",
   "execution_count": null,
   "id": "1ffbcbf0-49a0-409d-8bef-9bce9c8161fb",
   "metadata": {},
   "outputs": [],
   "source": []
  }
 ],
 "metadata": {
  "kernelspec": {
   "display_name": "Python 3 (ipykernel)",
   "language": "python",
   "name": "python3"
  },
  "language_info": {
   "codemirror_mode": {
    "name": "ipython",
    "version": 3
   },
   "file_extension": ".py",
   "mimetype": "text/x-python",
   "name": "python",
   "nbconvert_exporter": "python",
   "pygments_lexer": "ipython3",
   "version": "3.10.8"
  }
 },
 "nbformat": 4,
 "nbformat_minor": 5
}
